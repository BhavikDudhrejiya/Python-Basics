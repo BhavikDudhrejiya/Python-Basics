{
 "cells": [
  {
   "cell_type": "markdown",
   "metadata": {},
   "source": [
    "# Arithmetic Operators"
   ]
  },
  {
   "cell_type": "markdown",
   "metadata": {},
   "source": [
    "Arithmetic operators are used with numeric values to perform common mathematical operations:\n",
    "+\tAddition\t     x + y\t\n",
    "-\tSubtraction\t     x - y\t\n",
    "*\tMultiplication\t x * y\t\n",
    "/\tDivision\t     x / y\t\n",
    "%\tModulus\t         x % y\t\n",
    "**\tExponentiation\t x ** y\t\n",
    "//\tFloor division\t x // y"
   ]
  },
  {
   "cell_type": "code",
   "execution_count": 1,
   "metadata": {},
   "outputs": [
    {
     "data": {
      "text/plain": [
       "57"
      ]
     },
     "execution_count": 1,
     "metadata": {},
     "output_type": "execute_result"
    }
   ],
   "source": [
    "#Addition\n",
    "12+45"
   ]
  },
  {
   "cell_type": "code",
   "execution_count": 2,
   "metadata": {},
   "outputs": [
    {
     "data": {
      "text/plain": [
       "40"
      ]
     },
     "execution_count": 2,
     "metadata": {},
     "output_type": "execute_result"
    }
   ],
   "source": [
    "#Subtraction\n",
    "50-10"
   ]
  },
  {
   "cell_type": "code",
   "execution_count": 3,
   "metadata": {},
   "outputs": [
    {
     "data": {
      "text/plain": [
       "600"
      ]
     },
     "execution_count": 3,
     "metadata": {},
     "output_type": "execute_result"
    }
   ],
   "source": [
    "#Multiplication\n",
    "24*25"
   ]
  },
  {
   "cell_type": "code",
   "execution_count": 4,
   "metadata": {},
   "outputs": [
    {
     "data": {
      "text/plain": [
       "5.0"
      ]
     },
     "execution_count": 4,
     "metadata": {},
     "output_type": "execute_result"
    }
   ],
   "source": [
    "#Division\n",
    "25/5"
   ]
  },
  {
   "cell_type": "code",
   "execution_count": 13,
   "metadata": {},
   "outputs": [
    {
     "name": "stdout",
     "output_type": "stream",
     "text": [
      "1\n",
      "0\n",
      "1\n",
      "0\n",
      "1\n",
      "0\n",
      "1\n",
      "0\n"
     ]
    }
   ],
   "source": [
    "#Reminder or Modulus\n",
    "print(1%2)\n",
    "print(2%2)\n",
    "print(3%2)\n",
    "print(4%2)\n",
    "print(7%2)\n",
    "print(8%2)\n",
    "print(9%2)\n",
    "print(10%2)"
   ]
  },
  {
   "cell_type": "code",
   "execution_count": 24,
   "metadata": {},
   "outputs": [
    {
     "name": "stdout",
     "output_type": "stream",
     "text": [
      "4\n",
      "8\n",
      "16\n",
      "32\n"
     ]
    }
   ],
   "source": [
    "#Exponentiation\n",
    "print(2**2)\n",
    "print(2**3)\n",
    "print(2**4)\n",
    "print(2**5)"
   ]
  },
  {
   "cell_type": "code",
   "execution_count": 1,
   "metadata": {},
   "outputs": [
    {
     "data": {
      "text/plain": [
       "5"
      ]
     },
     "execution_count": 1,
     "metadata": {},
     "output_type": "execute_result"
    }
   ],
   "source": [
    "#Floor Division\n",
    "10//5\n",
    "25//5"
   ]
  },
  {
   "cell_type": "code",
   "execution_count": 30,
   "metadata": {},
   "outputs": [
    {
     "data": {
      "text/plain": [
       "'Bhavik1986'"
      ]
     },
     "execution_count": 30,
     "metadata": {},
     "output_type": "execute_result"
    }
   ],
   "source": [
    "#\"Bhavik \" + 1986 #It showing error due to both type of data is different\n",
    "\n",
    "\"Bhavik\" + str(1986) #Converted integer into string"
   ]
  },
  {
   "cell_type": "code",
   "execution_count": 32,
   "metadata": {},
   "outputs": [
    {
     "data": {
      "text/plain": [
       "'Bhavik Bhavik Bhavik Bhavik Bhavik Bhavik Bhavik Bhavik Bhavik Bhavik Bhavik Bhavik Bhavik Bhavik Bhavik Bhavik Bhavik Bhavik Bhavik Bhavik '"
      ]
     },
     "execution_count": 32,
     "metadata": {},
     "output_type": "execute_result"
    }
   ],
   "source": [
    "#If string multipy with interger, It print the string value given number of time\n",
    "\"Bhavik \" * 20"
   ]
  },
  {
   "cell_type": "markdown",
   "metadata": {},
   "source": [
    "# Comparison Operators"
   ]
  },
  {
   "cell_type": "markdown",
   "metadata": {},
   "source": [
    "Comparison operators are used to compare two values:\n",
    "==\tEqual\t                   x == y\t\n",
    "!=\tNot equal\t               x != y\t\n",
    ">\tGreater than\t           x > y\t\n",
    "<\tLess than\t               x < y\t\n",
    ">=\tGreater than or equal to   x >= y\t\n",
    "<=\tLess than or equal to\t   x <= y"
   ]
  },
  {
   "cell_type": "code",
   "execution_count": 48,
   "metadata": {},
   "outputs": [
    {
     "name": "stdout",
     "output_type": "stream",
     "text": [
      "True\n",
      "False\n",
      "True\n",
      "False\n",
      "False\n",
      "True\n",
      "True\n",
      "False\n",
      "False\n",
      "True\n",
      "True\n",
      "True\n",
      "True\n",
      "False\n"
     ]
    }
   ],
   "source": [
    "#Comparision Operators\n",
    "#Equals to\n",
    "print(10==10) #Comparing with same value\n",
    "print(10==11) #Comparing with different value\n",
    "#Not Equals to\n",
    "print(10!=11) #Comparing with different value\n",
    "print(10!=10) #Comparing with same value\n",
    "#Greater than\n",
    "print(10>11) #Comparing with larger value\n",
    "print(10>9) #Comparing with smaller value\n",
    "#Less than\n",
    "print(10<11) #Comparing with larger value\n",
    "print(10>11) #Comparing with smaller value\n",
    "#Greater than or Equals to\n",
    "print(10>=11) #Comparing greater than or equal value\n",
    "print(10>=10) \n",
    "print(10>=9)\n",
    "#Less than or Equals to\n",
    "print(10<=11)\n",
    "print(10<=10)\n",
    "print(10<=9)"
   ]
  },
  {
   "cell_type": "markdown",
   "metadata": {},
   "source": [
    "# Logical Operators"
   ]
  },
  {
   "cell_type": "markdown",
   "metadata": {},
   "source": [
    "Logical operators are used to combine conditional statements:\n",
    "and \tReturns True if both statements are true\t                x < 5 and  x < 10\t\n",
    "or\t    Returns True if one of the statements is true               x < 5 or x < 4\t\n",
    "not\t    Reverse the result, returns False if the result is true\t    not x < 5 and x < 10"
   ]
  },
  {
   "cell_type": "code",
   "execution_count": 8,
   "metadata": {},
   "outputs": [
    {
     "name": "stdout",
     "output_type": "stream",
     "text": [
      "2\n",
      "0\n",
      "3\n",
      "4\n",
      "3\n",
      "4\n",
      "4\n"
     ]
    }
   ],
   "source": [
    "#\"and\" operator\n",
    "print(1 and 2)\n",
    "print(0 and 1)\n",
    "print(1 and 3)\n",
    "print(1 and 4)\n",
    "print(2 and 3)\n",
    "print(2 and 4)\n",
    "print(3 and 4)"
   ]
  },
  {
   "cell_type": "code",
   "execution_count": 9,
   "metadata": {},
   "outputs": [
    {
     "name": "stdout",
     "output_type": "stream",
     "text": [
      "1\n",
      "1\n",
      "1\n",
      "1\n",
      "2\n",
      "2\n",
      "3\n"
     ]
    }
   ],
   "source": [
    "#\"or\" operator\n",
    "print(1 or 2)\n",
    "print(0 or 1)\n",
    "print(1 or 3)\n",
    "print(1 or 4)\n",
    "print(2 or 3)\n",
    "print(2 or 4)\n",
    "print(3 or 4)"
   ]
  },
  {
   "cell_type": "code",
   "execution_count": 157,
   "metadata": {},
   "outputs": [
    {
     "name": "stdout",
     "output_type": "stream",
     "text": [
      "False\n",
      "False\n",
      "False\n",
      "False\n",
      "False\n",
      "False\n"
     ]
    }
   ],
   "source": [
    "# 'not' operator\n",
    "print(not(2 and 3))\n",
    "print(not(3 and 2))\n",
    "print(not(2 and 2))\n",
    "print(not(2 or 3))\n",
    "print(not(3 or 2))\n",
    "print(not(2 or 2))"
   ]
  },
  {
   "cell_type": "markdown",
   "metadata": {},
   "source": [
    "# Assignment Operators"
   ]
  },
  {
   "cell_type": "code",
   "execution_count": 2,
   "metadata": {},
   "outputs": [
    {
     "data": {
      "text/plain": [
       "5"
      ]
     },
     "execution_count": 2,
     "metadata": {},
     "output_type": "execute_result"
    }
   ],
   "source": [
    "#Assigning Operator = (Equals Sign). It is assigning the value\n",
    "x = 5\n",
    "x"
   ]
  },
  {
   "cell_type": "code",
   "execution_count": 10,
   "metadata": {},
   "outputs": [
    {
     "name": "stdout",
     "output_type": "stream",
     "text": [
      "8\n"
     ]
    }
   ],
   "source": [
    "#Assigning Operator += (Equals Sign). It is adding the value to existing variable\n",
    "x=5\n",
    "x+=3\n",
    "print(x)"
   ]
  },
  {
   "cell_type": "code",
   "execution_count": 11,
   "metadata": {},
   "outputs": [
    {
     "name": "stdout",
     "output_type": "stream",
     "text": [
      "2\n"
     ]
    }
   ],
   "source": [
    "#Assigning Operator -= (Equals Sign). It is subtracting value to existing variable\n",
    "x=5\n",
    "x-=3\n",
    "print(x)"
   ]
  },
  {
   "cell_type": "code",
   "execution_count": 12,
   "metadata": {},
   "outputs": [
    {
     "name": "stdout",
     "output_type": "stream",
     "text": [
      "15\n"
     ]
    }
   ],
   "source": [
    "#Assigning Operator *= (Equals Sign). It is multiply value to existing variable\n",
    "x=5\n",
    "x*=3\n",
    "print(x)"
   ]
  },
  {
   "cell_type": "code",
   "execution_count": 13,
   "metadata": {},
   "outputs": [
    {
     "name": "stdout",
     "output_type": "stream",
     "text": [
      "1.6666666666666667\n"
     ]
    }
   ],
   "source": [
    "#Assigning Operator /= (Equals Sign). It is division value to existing variable\n",
    "x=5\n",
    "x/=3\n",
    "print(x)"
   ]
  },
  {
   "cell_type": "code",
   "execution_count": 14,
   "metadata": {},
   "outputs": [
    {
     "name": "stdout",
     "output_type": "stream",
     "text": [
      "2\n"
     ]
    }
   ],
   "source": [
    "#Assigning Operator %= (Equals Sign). It is modulus/reminder value to existing variable\n",
    "x=5\n",
    "x%=3\n",
    "print(x)"
   ]
  },
  {
   "cell_type": "code",
   "execution_count": 15,
   "metadata": {},
   "outputs": [
    {
     "name": "stdout",
     "output_type": "stream",
     "text": [
      "1\n"
     ]
    }
   ],
   "source": [
    "#Assigning Operator //= (Equals Sign). It is floor division value to existing variable\n",
    "x=5\n",
    "x//=3\n",
    "print(x)"
   ]
  },
  {
   "cell_type": "code",
   "execution_count": 17,
   "metadata": {},
   "outputs": [
    {
     "name": "stdout",
     "output_type": "stream",
     "text": [
      "125\n"
     ]
    }
   ],
   "source": [
    "#Assigning Operator **= (Equals Sign). It is exponentiation value to existing variable\n",
    "x=5\n",
    "x**=3\n",
    "print(x)"
   ]
  },
  {
   "cell_type": "code",
   "execution_count": 149,
   "metadata": {},
   "outputs": [
    {
     "name": "stdout",
     "output_type": "stream",
     "text": [
      "2\n"
     ]
    }
   ],
   "source": [
    "#Assigning Operator &= (Equals Sign).\n",
    "x=10\n",
    "x&=2\n",
    "print(x)\n",
    "\n",
    "#1 = 0\n",
    "#2 = 0\n",
    "#3 = 2\n",
    "#4 = 0\n",
    "#5 = 0\n",
    "#6 = 2\n",
    "#7 = 2\n",
    "#8 = 0\n",
    "#9 = 0\n",
    "#10 =2"
   ]
  },
  {
   "cell_type": "code",
   "execution_count": 125,
   "metadata": {},
   "outputs": [
    {
     "name": "stdout",
     "output_type": "stream",
     "text": [
      "3\n"
     ]
    }
   ],
   "source": [
    "#Assigning Operator |= (Equals Sign). After number adding the number\n",
    "x=1\n",
    "x|=2\n",
    "print(x)\n",
    "\n",
    "#0+2 = 2 number will be added\n",
    "#1+2 = 3  number will be added\n",
    "#2   = 2  number will bw as it is\n",
    "#3 = 2  number will bw as it is\n",
    "#4+2 = number will be added\n",
    "#5+2 = number will be added\n",
    "#6 =  number will bw as it is\n",
    "#7 = number will bw as it is\n",
    "#8 = number will be added\n",
    "#9 = number will be added\n",
    "#10 = number will bw as it is\n",
    "#11 = number will bw as it is"
   ]
  },
  {
   "cell_type": "code",
   "execution_count": 82,
   "metadata": {},
   "outputs": [
    {
     "name": "stdout",
     "output_type": "stream",
     "text": [
      "3\n",
      "0\n"
     ]
    }
   ],
   "source": [
    "#Assigning Operator ^= (Equals Sign). \n",
    "x=1\n",
    "x^=2\n",
    "print(x)\n",
    "\n",
    "#for odd number it will adding\n",
    "#for even number it will subtracting\n",
    "\n",
    "x1=2\n",
    "x1^=2\n",
    "print(x1)"
   ]
  },
  {
   "cell_type": "code",
   "execution_count": 62,
   "metadata": {},
   "outputs": [
    {
     "name": "stdout",
     "output_type": "stream",
     "text": [
      "1\n"
     ]
    }
   ],
   "source": [
    "#Assigning Operator >>= (Equals Sign). \n",
    "x=10\n",
    "x>>=3\n",
    "print(x)\n",
    "#10/2 = 5\n",
    "#5/2 = 2.5\n",
    "#2.5/2 = 1.25"
   ]
  },
  {
   "cell_type": "code",
   "execution_count": 58,
   "metadata": {},
   "outputs": [
    {
     "name": "stdout",
     "output_type": "stream",
     "text": [
      "40\n"
     ]
    }
   ],
   "source": [
    "#Assigning Operator <<= (Equals Sign).\n",
    "x=5\n",
    "x<<=3\n",
    "print(x)\n",
    "#5*2=10\n",
    "#10*2=20\n",
    "#20*2=40"
   ]
  },
  {
   "cell_type": "markdown",
   "metadata": {},
   "source": [
    "# Identity Operators"
   ]
  },
  {
   "cell_type": "markdown",
   "metadata": {},
   "source": [
    "is   \tReturns True if both variables are the same object\t    x is y\t\n",
    "is not\tReturns True if both variables are not the same object\tx is not y"
   ]
  },
  {
   "cell_type": "code",
   "execution_count": 160,
   "metadata": {},
   "outputs": [
    {
     "data": {
      "text/plain": [
       "True"
      ]
     },
     "execution_count": 160,
     "metadata": {},
     "output_type": "execute_result"
    }
   ],
   "source": [
    "# is operator. If both the values are true then it shows true otherwise false\n",
    "x=50\n",
    "y = 50\n",
    "x is y"
   ]
  },
  {
   "cell_type": "code",
   "execution_count": 161,
   "metadata": {},
   "outputs": [
    {
     "data": {
      "text/plain": [
       "False"
      ]
     },
     "execution_count": 161,
     "metadata": {},
     "output_type": "execute_result"
    }
   ],
   "source": [
    "# is operator. If both the values are true then it shows true otherwise false\n",
    "x=50\n",
    "y = 60\n",
    "x is y"
   ]
  },
  {
   "cell_type": "code",
   "execution_count": 162,
   "metadata": {},
   "outputs": [
    {
     "data": {
      "text/plain": [
       "False"
      ]
     },
     "execution_count": 162,
     "metadata": {},
     "output_type": "execute_result"
    }
   ],
   "source": [
    "# is not operator. If both the values are not true then it shows true otherwise false\n",
    "x=50\n",
    "y = 50\n",
    "x is not y"
   ]
  },
  {
   "cell_type": "code",
   "execution_count": 163,
   "metadata": {},
   "outputs": [
    {
     "data": {
      "text/plain": [
       "True"
      ]
     },
     "execution_count": 163,
     "metadata": {},
     "output_type": "execute_result"
    }
   ],
   "source": [
    "# is not operator. If both the values are not true then it shows true otherwise false\n",
    "x=50\n",
    "y = 60\n",
    "x is not y"
   ]
  },
  {
   "cell_type": "markdown",
   "metadata": {},
   "source": [
    "# Membership Operators"
   ]
  },
  {
   "cell_type": "code",
   "execution_count": 164,
   "metadata": {},
   "outputs": [
    {
     "data": {
      "text/plain": [
       "True"
      ]
     },
     "execution_count": 164,
     "metadata": {},
     "output_type": "execute_result"
    }
   ],
   "source": [
    "#in operator. if y values available in x list then it is true otherwise false\n",
    "x = [1,2,3,4,5,6]\n",
    "y = 4\n",
    "\n",
    "y in x"
   ]
  },
  {
   "cell_type": "code",
   "execution_count": 165,
   "metadata": {},
   "outputs": [
    {
     "data": {
      "text/plain": [
       "False"
      ]
     },
     "execution_count": 165,
     "metadata": {},
     "output_type": "execute_result"
    }
   ],
   "source": [
    "#in operator. if y values available in x list then it is true otherwise false\n",
    "x = [1,2,3,4,5,6]\n",
    "y = 10\n",
    "\n",
    "y in x"
   ]
  },
  {
   "cell_type": "code",
   "execution_count": 167,
   "metadata": {},
   "outputs": [
    {
     "data": {
      "text/plain": [
       "True"
      ]
     },
     "execution_count": 167,
     "metadata": {},
     "output_type": "execute_result"
    }
   ],
   "source": [
    "#not in operator. if y values not available in x list then it is true otherwise false\n",
    "x = [1,2,3,4,5,6]\n",
    "y = 10\n",
    "\n",
    "y not in x"
   ]
  },
  {
   "cell_type": "code",
   "execution_count": 168,
   "metadata": {},
   "outputs": [
    {
     "data": {
      "text/plain": [
       "False"
      ]
     },
     "execution_count": 168,
     "metadata": {},
     "output_type": "execute_result"
    }
   ],
   "source": [
    "#not in operator. if y values not available in x list then it is true otherwise false\n",
    "x = [1,2,3,4,5,6]\n",
    "y = 5\n",
    "\n",
    "y not in x"
   ]
  }
 ],
 "metadata": {
  "kernelspec": {
   "display_name": "Python 3",
   "language": "python",
   "name": "python3"
  },
  "language_info": {
   "codemirror_mode": {
    "name": "ipython",
    "version": 3
   },
   "file_extension": ".py",
   "mimetype": "text/x-python",
   "name": "python",
   "nbconvert_exporter": "python",
   "pygments_lexer": "ipython3",
   "version": "3.8.6"
  }
 },
 "nbformat": 4,
 "nbformat_minor": 4
}
