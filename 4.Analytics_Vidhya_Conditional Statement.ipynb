{
 "cells": [
  {
   "cell_type": "markdown",
   "metadata": {},
   "source": [
    "#CONDITIONAL STATEMENT"
   ]
  },
  {
   "cell_type": "code",
   "execution_count": null,
   "metadata": {},
   "outputs": [],
   "source": [
    "#If statement only\n",
    "x = 10\n",
    "\n",
    "if x%2==0:\n",
    "    print(\"Even\")\n",
    "    \n",
    "#If condition satisfy then it will return the result otherwise not"
   ]
  },
  {
   "cell_type": "code",
   "execution_count": 9,
   "metadata": {},
   "outputs": [
    {
     "name": "stdin",
     "output_type": "stream",
     "text": [
      "Enter Number: 25585225587744\n"
     ]
    },
    {
     "name": "stdout",
     "output_type": "stream",
     "text": [
      "Even\n"
     ]
    }
   ],
   "source": [
    "# If Else statement\n",
    "x = int(input(\"Enter Number:\"))\n",
    "\n",
    "if x%2==0:\n",
    "    print(\"Even\")\n",
    "else:\n",
    "    print(\"Odd\")"
   ]
  },
  {
   "cell_type": "code",
   "execution_count": 24,
   "metadata": {},
   "outputs": [
    {
     "name": "stdin",
     "output_type": "stream",
     "text": [
      "Enter Price: 25501\n"
     ]
    },
    {
     "name": "stdout",
     "output_type": "stream",
     "text": [
      "We will not buy\n"
     ]
    }
   ],
   "source": [
    "# If Else statement\n",
    "computer_price = int(input(\"Enter Price:\"))\n",
    "Budget = 25500\n",
    "\n",
    "if computer_price>Budget:\n",
    "    print(\"We will not buy\")\n",
    "else:\n",
    "    print(\"We will buy\")"
   ]
  },
  {
   "cell_type": "code",
   "execution_count": 31,
   "metadata": {},
   "outputs": [
    {
     "name": "stdin",
     "output_type": "stream",
     "text": [
      "Enter Computer Price: 100000\n"
     ]
    },
    {
     "name": "stdout",
     "output_type": "stream",
     "text": [
      "We will not buy due to high price\n"
     ]
    }
   ],
   "source": [
    "'''I am going to the computer shop for buying i3 processor laptop. My minumum budget is 25000 which I \n",
    "can afford to buy but it is greater than 25000 and less than 30000 then I will think of it. If the price \n",
    "is more then 30000 then I will not buy the laptop'''\n",
    "\n",
    "#If Elif Statement\n",
    "computer_price = int(input(\"Enter Computer Price:\"))\n",
    "Minimum_Budget = 25500\n",
    "Maximum_Budget = 30000\n",
    "\n",
    "if computer_price<=Minimum_Budget:\n",
    "    print(\"We will buy as price is under the budget\")\n",
    "elif computer_price>Minimum_Budget and computer_price<=Maximum_Budget:\n",
    "    print(\"We will think of it as the price is some of higher than budget\")\n",
    "else:\n",
    "    print(\"We will not buy due to high price\")"
   ]
  }
 ],
 "metadata": {
  "kernelspec": {
   "display_name": "Python 3",
   "language": "python",
   "name": "python3"
  },
  "language_info": {
   "codemirror_mode": {
    "name": "ipython",
    "version": 3
   },
   "file_extension": ".py",
   "mimetype": "text/x-python",
   "name": "python",
   "nbconvert_exporter": "python",
   "pygments_lexer": "ipython3",
   "version": "3.8.6"
  }
 },
 "nbformat": 4,
 "nbformat_minor": 4
}
