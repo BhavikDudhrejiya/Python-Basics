{
 "cells": [
  {
   "cell_type": "code",
   "execution_count": 1,
   "metadata": {},
   "outputs": [
    {
     "name": "stdout",
     "output_type": "stream",
     "text": [
      "[2, 3, 4, 5, 6]\n"
     ]
    }
   ],
   "source": [
    "#Creating list with integers\n",
    "list1 = [2,3,4,5,6]\n",
    "print(list1)"
   ]
  },
  {
   "cell_type": "code",
   "execution_count": 9,
   "metadata": {},
   "outputs": [
    {
     "name": "stdout",
     "output_type": "stream",
     "text": [
      "['Bhavik', 'Vijay', 'Sunil', 'Yogesh']\n"
     ]
    }
   ],
   "source": [
    "#Creating list with string names\n",
    "list2 = [\"Bhavik\", \"Vijay\", \"Sunil\",\"Yogesh\"]\n",
    "print(list2)"
   ]
  },
  {
   "cell_type": "code",
   "execution_count": 14,
   "metadata": {},
   "outputs": [
    {
     "name": "stdout",
     "output_type": "stream",
     "text": [
      "['Ankit', 1, 'Vijay', 2, 'Ajay', 3]\n"
     ]
    }
   ],
   "source": [
    "#Creating list with mix\n",
    "list3 = [\"Ankit\",1,\"Vijay\",2,\"Ajay\",3]\n",
    "print(list3)"
   ]
  },
  {
   "cell_type": "code",
   "execution_count": 20,
   "metadata": {},
   "outputs": [
    {
     "name": "stdout",
     "output_type": "stream",
     "text": [
      "2\n",
      "Bhavik\n",
      "Ankit\n",
      "[2, 3, 4]\n",
      "['Bhavik', 'Vijay', 'Sunil']\n",
      "['Ankit', 1, 'Vijay']\n",
      "6\n",
      "Yogesh\n",
      "3\n",
      "[2, 3, 4, 5, 6]\n",
      "['Bhavik', 'Vijay', 'Sunil', 'Yogesh']\n",
      "['Ankit', 1, 'Vijay', 2, 'Ajay', 3]\n",
      "[]\n",
      "['Bhavik', 'Vijay', 'Sunil', 'Yogesh']\n",
      "['Ankit', 1, 'Vijay', 2, 'Ajay', 3]\n"
     ]
    }
   ],
   "source": [
    "#Accessing a list\n",
    "print(list1[0]) #Accesing first element of a list\n",
    "print(list2[0])\n",
    "print(list3[0])\n",
    "\n",
    "print(list1[:3])#Accesing first to third element of a list\n",
    "print(list2[:3])\n",
    "print(list3[:3])\n",
    "\n",
    "print(list1[-1])#Accessing last element of a list\n",
    "print(list2[-1])\n",
    "print(list3[-1])\n",
    "\n",
    "print(list1[:])#Accessing all the elements of the list\n",
    "print(list2[:])\n",
    "print(list3[:])\n",
    "\n",
    "print(list1[-1:-3])#Accessing all the elements of the list\n",
    "print(list2[:])\n",
    "print(list3[:])"
   ]
  },
  {
   "cell_type": "code",
   "execution_count": 2,
   "metadata": {},
   "outputs": [
    {
     "data": {
      "text/plain": [
       "[15, 45, 89, 50, 90]"
      ]
     },
     "execution_count": 2,
     "metadata": {},
     "output_type": "execute_result"
    }
   ],
   "source": [
    "#Adding single elements in a list\n",
    "list2 = [15,45,89]\n",
    "list2.append(50)\n",
    "list2\n",
    "list2.append(90)\n",
    "list2"
   ]
  },
  {
   "cell_type": "code",
   "execution_count": 4,
   "metadata": {},
   "outputs": [
    {
     "data": {
      "text/plain": [
       "[15, 45, 89, 50, 90, 88, 42, 68, 88, 42, 68, 94, 74, 65, 84, 52, 36, 74]"
      ]
     },
     "execution_count": 4,
     "metadata": {},
     "output_type": "execute_result"
    }
   ],
   "source": [
    "#Adding multiple elements in a list\n",
    "list2.extend([88,42,68])\n",
    "list2\n",
    "list2.extend([94,74,65,84,52,36,74,])\n",
    "list2"
   ]
  },
  {
   "cell_type": "code",
   "execution_count": 5,
   "metadata": {},
   "outputs": [
    {
     "data": {
      "text/plain": [
       "[15,\n",
       " 45,\n",
       " 89,\n",
       " 50,\n",
       " 90,\n",
       " 88,\n",
       " 42,\n",
       " 68,\n",
       " 88,\n",
       " 42,\n",
       " 68,\n",
       " 94,\n",
       " 74,\n",
       " 65,\n",
       " 84,\n",
       " 52,\n",
       " 36,\n",
       " 74,\n",
       " [420, 786]]"
      ]
     },
     "execution_count": 5,
     "metadata": {},
     "output_type": "execute_result"
    }
   ],
   "source": [
    "#Adding list in a list\n",
    "list2.append([420,786])\n",
    "list2"
   ]
  },
  {
   "cell_type": "code",
   "execution_count": 11,
   "metadata": {},
   "outputs": [
    {
     "name": "stdout",
     "output_type": "stream",
     "text": [
      "[45, 89, 50, 90, 88, 42, 68, 88, 42, 68, 94, 74, 65, 84, 52, 36, 74, [420, 786]]\n",
      "[45, 89, 50, 90, 88, 42, 68, 88, 42, 68, 94, 74, 65, 84, 52, 36, 74]\n"
     ]
    }
   ],
   "source": [
    "#Removing elements from a list\n",
    "print(list2)\n",
    "\n",
    "list2.remove([420,786])\n",
    "\n",
    "print(list2)"
   ]
  },
  {
   "cell_type": "code",
   "execution_count": 31,
   "metadata": {},
   "outputs": [
    {
     "name": "stdout",
     "output_type": "stream",
     "text": [
      "[89, 50, 68, 68, 94, 74, 65, 84, 52, 74]\n"
     ]
    }
   ],
   "source": [
    "#Removing number 36 from a list\n",
    "list2.remove(36)\n",
    "\n",
    "print(list2)"
   ]
  },
  {
   "cell_type": "code",
   "execution_count": 38,
   "metadata": {},
   "outputs": [
    {
     "name": "stdout",
     "output_type": "stream",
     "text": [
      "[89, 50, 68, 68, 94, 65]\n"
     ]
    }
   ],
   "source": [
    "#Remove number 74 through index\n",
    "del list2[5]\n",
    "\n",
    "print(list2)"
   ]
  },
  {
   "cell_type": "code",
   "execution_count": 47,
   "metadata": {},
   "outputs": [
    {
     "name": "stdout",
     "output_type": "stream",
     "text": [
      "[89, 50, 68, 68, 94, 65]\n",
      "90\n",
      "51\n",
      "69\n",
      "69\n",
      "95\n",
      "66\n",
      "[89, 50, 68, 68, 94, 65]\n"
     ]
    }
   ],
   "source": [
    "#Accessing elements through loop\n",
    "\n",
    "print(list2)\n",
    "\n",
    "for i in list2:\n",
    "    print(i+1)\n",
    "    \n",
    "print(list2)"
   ]
  }
 ],
 "metadata": {
  "kernelspec": {
   "display_name": "Python 3",
   "language": "python",
   "name": "python3"
  },
  "language_info": {
   "codemirror_mode": {
    "name": "ipython",
    "version": 3
   },
   "file_extension": ".py",
   "mimetype": "text/x-python",
   "name": "python",
   "nbconvert_exporter": "python",
   "pygments_lexer": "ipython3",
   "version": "3.8.6"
  }
 },
 "nbformat": 4,
 "nbformat_minor": 4
}
