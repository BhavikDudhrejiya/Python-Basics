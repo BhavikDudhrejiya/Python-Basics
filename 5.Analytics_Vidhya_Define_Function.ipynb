{
 "cells": [
  {
   "cell_type": "code",
   "execution_count": 15,
   "metadata": {},
   "outputs": [
    {
     "data": {
      "text/plain": [
       "900"
      ]
     },
     "execution_count": 15,
     "metadata": {},
     "output_type": "execute_result"
    }
   ],
   "source": [
    "#Creating Maximum function in three value\n",
    "def maximum(val1,val2,val3):\n",
    "    if (val1>val2):\n",
    "        if (val1>val3):\n",
    "            return val1\n",
    "        else:\n",
    "            return val2\n",
    "    else:\n",
    "        if (val2>val3):\n",
    "            return val2\n",
    "        else:\n",
    "            return val3\n",
    "    \n",
    "maximum(700,800,900)"
   ]
  },
  {
   "cell_type": "code",
   "execution_count": 21,
   "metadata": {},
   "outputs": [
    {
     "data": {
      "text/plain": [
       "54.888888888888886"
      ]
     },
     "execution_count": 21,
     "metadata": {},
     "output_type": "execute_result"
    }
   ],
   "source": [
    "#Creating average function\n",
    "def avg(a):\n",
    "    average = sum(a)/len(a)\n",
    "    return average\n",
    "\n",
    "list1 = [12,45,87,56,98,65,74,12,45]\n",
    "\n",
    "avg(list1)"
   ]
  },
  {
   "cell_type": "code",
   "execution_count": 72,
   "metadata": {},
   "outputs": [
    {
     "data": {
      "text/plain": [
       "30.068440450264646"
      ]
     },
     "execution_count": 72,
     "metadata": {},
     "output_type": "execute_result"
    }
   ],
   "source": [
    "#Importing library\n",
    "import math\n",
    "\n",
    "#Creating function of standard deviation\n",
    "list1 = [12,45,87,56,98,65,74,12,45]\n",
    "\n",
    "#Creating standard deviation function\n",
    "def stdev(a):\n",
    "    stdev = math.sqrt(sum((i-mean)**2 for i in list1)/(len(list1)-1))\n",
    "    return stdev\n",
    "\n",
    "#Implementing function\n",
    "stdev(list1)"
   ]
  },
  {
   "cell_type": "code",
   "execution_count": 74,
   "metadata": {},
   "outputs": [
    {
     "data": {
      "text/plain": [
       "23.104232416497965"
      ]
     },
     "execution_count": 74,
     "metadata": {},
     "output_type": "execute_result"
    }
   ],
   "source": [
    "#Implementing function for another value\n",
    "list1 = [15,48,78,45,65,89,45,78,65]\n",
    "stdev(b)"
   ]
  }
 ],
 "metadata": {
  "kernelspec": {
   "display_name": "Python 3",
   "language": "python",
   "name": "python3"
  },
  "language_info": {
   "codemirror_mode": {
    "name": "ipython",
    "version": 3
   },
   "file_extension": ".py",
   "mimetype": "text/x-python",
   "name": "python",
   "nbconvert_exporter": "python",
   "pygments_lexer": "ipython3",
   "version": "3.8.6"
  }
 },
 "nbformat": 4,
 "nbformat_minor": 4
}
