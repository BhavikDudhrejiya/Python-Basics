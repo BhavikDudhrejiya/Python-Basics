{
 "cells": [
  {
   "cell_type": "code",
   "execution_count": 4,
   "metadata": {},
   "outputs": [
    {
     "name": "stdout",
     "output_type": "stream",
     "text": [
      "Hello World\n",
      "25\n",
      "25.0\n",
      "True\n",
      "False\n"
     ]
    }
   ],
   "source": [
    "#Print Hello World\n",
    "print(\"Hello World\") #Printing string\n",
    "print(25) #Printing integer\n",
    "print(25.0) #Printing float\n",
    "print(True) #Printing boolean\n",
    "print(False)"
   ]
  }
 ],
 "metadata": {
  "kernelspec": {
   "display_name": "Python 3",
   "language": "python",
   "name": "python3"
  },
  "language_info": {
   "codemirror_mode": {
    "name": "ipython",
    "version": 3
   },
   "file_extension": ".py",
   "mimetype": "text/x-python",
   "name": "python",
   "nbconvert_exporter": "python",
   "pygments_lexer": "ipython3",
   "version": "3.8.6"
  }
 },
 "nbformat": 4,
 "nbformat_minor": 4
}
