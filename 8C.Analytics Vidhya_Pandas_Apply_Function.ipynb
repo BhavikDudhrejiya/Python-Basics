{
 "cells": [
  {
   "cell_type": "code",
   "execution_count": null,
   "metadata": {},
   "outputs": [],
   "source": [
    "#Apply Function"
   ]
  },
  {
   "cell_type": "code",
   "execution_count": 3,
   "metadata": {},
   "outputs": [],
   "source": [
    "# Import library\n",
    "import pandas as pd"
   ]
  },
  {
   "cell_type": "code",
   "execution_count": 35,
   "metadata": {},
   "outputs": [],
   "source": [
    "#Reading csv file\n",
    "data = pd.read_csv(\"C:/Users/Bhavik/Desktop/Data Science/1. Linear Regression/3_Insurance_Losses/InsuranceLosses.csv\")"
   ]
  },
  {
   "cell_type": "code",
   "execution_count": 5,
   "metadata": {},
   "outputs": [
    {
     "data": {
      "text/html": [
       "<div>\n",
       "<style scoped>\n",
       "    .dataframe tbody tr th:only-of-type {\n",
       "        vertical-align: middle;\n",
       "    }\n",
       "\n",
       "    .dataframe tbody tr th {\n",
       "        vertical-align: top;\n",
       "    }\n",
       "\n",
       "    .dataframe thead th {\n",
       "        text-align: right;\n",
       "    }\n",
       "</style>\n",
       "<table border=\"1\" class=\"dataframe\">\n",
       "  <thead>\n",
       "    <tr style=\"text-align: right;\">\n",
       "      <th></th>\n",
       "      <th>Policy Number</th>\n",
       "      <th>Age</th>\n",
       "      <th>Years of Driving Experience</th>\n",
       "      <th>Number of Vehicles</th>\n",
       "      <th>Gender</th>\n",
       "      <th>Married</th>\n",
       "      <th>Vehicle Age</th>\n",
       "      <th>Fuel Type</th>\n",
       "      <th>Losses</th>\n",
       "    </tr>\n",
       "  </thead>\n",
       "  <tbody>\n",
       "    <tr>\n",
       "      <th>0</th>\n",
       "      <td>150024</td>\n",
       "      <td>24</td>\n",
       "      <td>5</td>\n",
       "      <td>1</td>\n",
       "      <td>M</td>\n",
       "      <td>Married</td>\n",
       "      <td>11</td>\n",
       "      <td>P</td>\n",
       "      <td>203.319595</td>\n",
       "    </tr>\n",
       "    <tr>\n",
       "      <th>1</th>\n",
       "      <td>144880</td>\n",
       "      <td>31</td>\n",
       "      <td>10</td>\n",
       "      <td>1</td>\n",
       "      <td>F</td>\n",
       "      <td>Single</td>\n",
       "      <td>6</td>\n",
       "      <td>P</td>\n",
       "      <td>402.197302</td>\n",
       "    </tr>\n",
       "    <tr>\n",
       "      <th>2</th>\n",
       "      <td>133742</td>\n",
       "      <td>56</td>\n",
       "      <td>37</td>\n",
       "      <td>1</td>\n",
       "      <td>M</td>\n",
       "      <td>Married</td>\n",
       "      <td>0</td>\n",
       "      <td>D</td>\n",
       "      <td>553.132096</td>\n",
       "    </tr>\n",
       "    <tr>\n",
       "      <th>3</th>\n",
       "      <td>151282</td>\n",
       "      <td>52</td>\n",
       "      <td>31</td>\n",
       "      <td>1</td>\n",
       "      <td>F</td>\n",
       "      <td>Married</td>\n",
       "      <td>15</td>\n",
       "      <td>P</td>\n",
       "      <td>292.430579</td>\n",
       "    </tr>\n",
       "    <tr>\n",
       "      <th>4</th>\n",
       "      <td>174407</td>\n",
       "      <td>20</td>\n",
       "      <td>3</td>\n",
       "      <td>1</td>\n",
       "      <td>M</td>\n",
       "      <td>Single</td>\n",
       "      <td>15</td>\n",
       "      <td>P</td>\n",
       "      <td>246.540576</td>\n",
       "    </tr>\n",
       "    <tr>\n",
       "      <th>...</th>\n",
       "      <td>...</td>\n",
       "      <td>...</td>\n",
       "      <td>...</td>\n",
       "      <td>...</td>\n",
       "      <td>...</td>\n",
       "      <td>...</td>\n",
       "      <td>...</td>\n",
       "      <td>...</td>\n",
       "      <td>...</td>\n",
       "    </tr>\n",
       "    <tr>\n",
       "      <th>15286</th>\n",
       "      <td>142111</td>\n",
       "      <td>69</td>\n",
       "      <td>48</td>\n",
       "      <td>4</td>\n",
       "      <td>F</td>\n",
       "      <td>Married</td>\n",
       "      <td>9</td>\n",
       "      <td>P</td>\n",
       "      <td>304.519134</td>\n",
       "    </tr>\n",
       "    <tr>\n",
       "      <th>15287</th>\n",
       "      <td>176444</td>\n",
       "      <td>69</td>\n",
       "      <td>51</td>\n",
       "      <td>4</td>\n",
       "      <td>F</td>\n",
       "      <td>Married</td>\n",
       "      <td>13</td>\n",
       "      <td>P</td>\n",
       "      <td>282.149148</td>\n",
       "    </tr>\n",
       "    <tr>\n",
       "      <th>15288</th>\n",
       "      <td>180420</td>\n",
       "      <td>22</td>\n",
       "      <td>4</td>\n",
       "      <td>4</td>\n",
       "      <td>M</td>\n",
       "      <td>Married</td>\n",
       "      <td>9</td>\n",
       "      <td>D</td>\n",
       "      <td>822.470554</td>\n",
       "    </tr>\n",
       "    <tr>\n",
       "      <th>15289</th>\n",
       "      <td>157201</td>\n",
       "      <td>20</td>\n",
       "      <td>2</td>\n",
       "      <td>4</td>\n",
       "      <td>F</td>\n",
       "      <td>Married</td>\n",
       "      <td>2</td>\n",
       "      <td>P</td>\n",
       "      <td>406.924740</td>\n",
       "    </tr>\n",
       "    <tr>\n",
       "      <th>15290</th>\n",
       "      <td>157208</td>\n",
       "      <td>20</td>\n",
       "      <td>2</td>\n",
       "      <td>4</td>\n",
       "      <td>F</td>\n",
       "      <td>Married</td>\n",
       "      <td>2</td>\n",
       "      <td>P</td>\n",
       "      <td>NaN</td>\n",
       "    </tr>\n",
       "  </tbody>\n",
       "</table>\n",
       "<p>15291 rows × 9 columns</p>\n",
       "</div>"
      ],
      "text/plain": [
       "       Policy Number  Age  Years of Driving Experience  Number of Vehicles  \\\n",
       "0             150024   24                            5                   1   \n",
       "1             144880   31                           10                   1   \n",
       "2             133742   56                           37                   1   \n",
       "3             151282   52                           31                   1   \n",
       "4             174407   20                            3                   1   \n",
       "...              ...  ...                          ...                 ...   \n",
       "15286         142111   69                           48                   4   \n",
       "15287         176444   69                           51                   4   \n",
       "15288         180420   22                            4                   4   \n",
       "15289         157201   20                            2                   4   \n",
       "15290         157208   20                            2                   4   \n",
       "\n",
       "      Gender  Married  Vehicle Age Fuel Type      Losses  \n",
       "0          M  Married           11         P  203.319595  \n",
       "1          F   Single            6         P  402.197302  \n",
       "2          M  Married            0         D  553.132096  \n",
       "3          F  Married           15         P  292.430579  \n",
       "4          M   Single           15         P  246.540576  \n",
       "...      ...      ...          ...       ...         ...  \n",
       "15286      F  Married            9         P  304.519134  \n",
       "15287      F  Married           13         P  282.149148  \n",
       "15288      M  Married            9         D  822.470554  \n",
       "15289      F  Married            2         P  406.924740  \n",
       "15290      F  Married            2         P         NaN  \n",
       "\n",
       "[15291 rows x 9 columns]"
      ]
     },
     "execution_count": 5,
     "metadata": {},
     "output_type": "execute_result"
    }
   ],
   "source": [
    "#Accessing row wise\n",
    "data.apply(lambda x:x)"
   ]
  },
  {
   "cell_type": "code",
   "execution_count": 10,
   "metadata": {},
   "outputs": [
    {
     "data": {
      "text/plain": [
       "Policy Number                   150024\n",
       "Age                                 24\n",
       "Years of Driving Experience          5\n",
       "Number of Vehicles                   1\n",
       "Gender                               M\n",
       "Married                        Married\n",
       "Vehicle Age                         11\n",
       "Fuel Type                            P\n",
       "Losses                          203.32\n",
       "dtype: object"
      ]
     },
     "execution_count": 10,
     "metadata": {},
     "output_type": "execute_result"
    }
   ],
   "source": [
    "#Accessing first row\n",
    "data.apply(lambda x:x[0])"
   ]
  },
  {
   "cell_type": "code",
   "execution_count": 14,
   "metadata": {},
   "outputs": [
    {
     "data": {
      "text/plain": [
       "0        150024\n",
       "1        144880\n",
       "2        133742\n",
       "3        151282\n",
       "4        174407\n",
       "          ...  \n",
       "15286    142111\n",
       "15287    176444\n",
       "15288    180420\n",
       "15289    157201\n",
       "15290    157208\n",
       "Length: 15291, dtype: int64"
      ]
     },
     "execution_count": 14,
     "metadata": {},
     "output_type": "execute_result"
    }
   ],
   "source": [
    "#Accessing first column by index\n",
    "data.apply(lambda x:x[0], axis = 1)"
   ]
  },
  {
   "cell_type": "code",
   "execution_count": 15,
   "metadata": {},
   "outputs": [
    {
     "data": {
      "text/plain": [
       "0        150024\n",
       "1        144880\n",
       "2        133742\n",
       "3        151282\n",
       "4        174407\n",
       "          ...  \n",
       "15286    142111\n",
       "15287    176444\n",
       "15288    180420\n",
       "15289    157201\n",
       "15290    157208\n",
       "Length: 15291, dtype: int64"
      ]
     },
     "execution_count": 15,
     "metadata": {},
     "output_type": "execute_result"
    }
   ],
   "source": [
    "#Accessing column by its name\n",
    "data.apply(lambda x:x['Policy Number'], axis = 1)"
   ]
  },
  {
   "cell_type": "code",
   "execution_count": 18,
   "metadata": {},
   "outputs": [
    {
     "data": {
      "text/plain": [
       "0    203.319595\n",
       "1    402.197302\n",
       "2    553.132096\n",
       "3    292.430579\n",
       "4    246.540576\n",
       "Name: Losses, dtype: float64"
      ]
     },
     "execution_count": 18,
     "metadata": {},
     "output_type": "execute_result"
    }
   ],
   "source": [
    "data['Losses'][:5]"
   ]
  },
  {
   "cell_type": "code",
   "execution_count": 22,
   "metadata": {},
   "outputs": [
    {
     "data": {
      "text/plain": [
       "0    203.319595\n",
       "1    402.197302\n",
       "2    500.000000\n",
       "3    292.430579\n",
       "4    246.540576\n",
       "Name: Losses, dtype: float64"
      ]
     },
     "execution_count": 22,
     "metadata": {},
     "output_type": "execute_result"
    }
   ],
   "source": [
    "#Apply function in using with defining function\n",
    "\n",
    "def insurance_loss(amount):\n",
    "    if amount>500:\n",
    "        amount = 500\n",
    "    return amount\n",
    "\n",
    "data['Losses'].apply(lambda x:insurance_loss(x))[:5]"
   ]
  },
  {
   "cell_type": "code",
   "execution_count": 36,
   "metadata": {},
   "outputs": [
    {
     "data": {
      "text/plain": [
       "0    M\n",
       "1    F\n",
       "2    M\n",
       "3    F\n",
       "4    M\n",
       "Name: Gender, dtype: object"
      ]
     },
     "execution_count": 36,
     "metadata": {},
     "output_type": "execute_result"
    }
   ],
   "source": [
    "data['Gender'][:5]"
   ]
  },
  {
   "cell_type": "code",
   "execution_count": 37,
   "metadata": {},
   "outputs": [],
   "source": [
    "def label_encode(Gender):\n",
    "    if Gender == 'F':\n",
    "        label = 0\n",
    "    else:\n",
    "        label = 1\n",
    "    return label"
   ]
  },
  {
   "cell_type": "code",
   "execution_count": 38,
   "metadata": {},
   "outputs": [
    {
     "data": {
      "text/plain": [
       "0        1\n",
       "1        0\n",
       "2        1\n",
       "3        0\n",
       "4        1\n",
       "        ..\n",
       "15286    0\n",
       "15287    0\n",
       "15288    1\n",
       "15289    0\n",
       "15290    0\n",
       "Name: Gender, Length: 15291, dtype: int64"
      ]
     },
     "execution_count": 38,
     "metadata": {},
     "output_type": "execute_result"
    }
   ],
   "source": [
    "data['Gender'] = data['Gender'].apply(label_encode)\n",
    "data['Gender']"
   ]
  }
 ],
 "metadata": {
  "kernelspec": {
   "display_name": "Python 3",
   "language": "python",
   "name": "python3"
  },
  "language_info": {
   "codemirror_mode": {
    "name": "ipython",
    "version": 3
   },
   "file_extension": ".py",
   "mimetype": "text/x-python",
   "name": "python",
   "nbconvert_exporter": "python",
   "pygments_lexer": "ipython3",
   "version": "3.8.6"
  },
  "toc": {
   "base_numbering": 1,
   "nav_menu": {},
   "number_sections": true,
   "sideBar": true,
   "skip_h1_title": false,
   "title_cell": "Table of Contents",
   "title_sidebar": "Contents",
   "toc_cell": false,
   "toc_position": {},
   "toc_section_display": true,
   "toc_window_display": false
  }
 },
 "nbformat": 4,
 "nbformat_minor": 4
}
